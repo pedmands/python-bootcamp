{
 "cells": [
  {
   "cell_type": "markdown",
   "metadata": {},
   "source": [
    "# Errors and Exception Handling \n",
    "## Try Except Finally"
   ]
  },
  {
   "cell_type": "code",
   "execution_count": 1,
   "metadata": {},
   "outputs": [
    {
     "ename": "TypeError",
     "evalue": "unsupported operand type(s) for +: 'int' and 'str'",
     "output_type": "error",
     "traceback": [
      "\u001b[0;31m---------------------------------------------------------------------------\u001b[0m",
      "\u001b[0;31mTypeError\u001b[0m                                 Traceback (most recent call last)",
      "\u001b[0;32m<ipython-input-1-842879d18793>\u001b[0m in \u001b[0;36m<module>\u001b[0;34m()\u001b[0m\n\u001b[0;32m----> 1\u001b[0;31m \u001b[0;36m2\u001b[0m \u001b[0;34m+\u001b[0m \u001b[0;34m's'\u001b[0m\u001b[0;34m\u001b[0m\u001b[0m\n\u001b[0m",
      "\u001b[0;31mTypeError\u001b[0m: unsupported operand type(s) for +: 'int' and 'str'"
     ]
    }
   ],
   "source": [
    "2 + 's'"
   ]
  },
  {
   "cell_type": "code",
   "execution_count": 6,
   "metadata": {},
   "outputs": [
    {
     "name": "stdout",
     "output_type": "stream",
     "text": [
      "There was a type error!\n",
      "Finally done.\n"
     ]
    }
   ],
   "source": [
    "try:\n",
    "    2 + 's'\n",
    "except TypeError:\n",
    "    # You don't necessarily need the TypeError, above.\n",
    "    print 'There was a type error!'\n",
    "finally:\n",
    "    print 'Finally done.'"
   ]
  },
  {
   "cell_type": "code",
   "execution_count": 50,
   "metadata": {},
   "outputs": [
    {
     "name": "stdout",
     "output_type": "stream",
     "text": [
      "File writing was a succes!\n"
     ]
    }
   ],
   "source": [
    "try:\n",
    "    f = open(\"testfile.txt\", \"w\")\n",
    "    f.write(\"Test write this, mother fucker!!\")\n",
    "    f.close()\n",
    "except IOError:\n",
    "    print \"Error writing to the file!\"\n",
    "else:\n",
    "    print 'File writing was a succes!'"
   ]
  },
  {
   "cell_type": "code",
   "execution_count": 51,
   "metadata": {},
   "outputs": [
    {
     "name": "stdout",
     "output_type": "stream",
     "text": [
      "There was an error!\n",
      "Always execute finally code blocks!\n"
     ]
    }
   ],
   "source": [
    "try:\n",
    "    f = open(\"testfile.txt\", \"r\")\n",
    "    f.write(\"Test write this, mother fucker!!\")\n",
    "    f.close()\n",
    "except:\n",
    "    print 'There was an error!'\n",
    "finally:\n",
    "    print \"Always execute finally code blocks!\""
   ]
  },
  {
   "cell_type": "code",
   "execution_count": 2,
   "metadata": {
    "collapsed": true
   },
   "outputs": [],
   "source": [
    "def askint():\n",
    "    try:\n",
    "        val = int(raw_input('Please enter an integer: '))\n",
    "    except:\n",
    "        print 'Looks like you didn\\'t enter an integer'\n",
    "        val = int(raw_input('Try again- please enter an integer: '))\n",
    "    finally:\n",
    "        print 'Finally block executed'\n",
    "    print val"
   ]
  },
  {
   "cell_type": "code",
   "execution_count": 3,
   "metadata": {},
   "outputs": [
    {
     "name": "stdout",
     "output_type": "stream",
     "text": [
      "Please enter an integer: j\n",
      "Looks like you didn't enter an integer\n",
      "Try again- please enter an integer: j\n",
      "Finally block executed\n"
     ]
    },
    {
     "ename": "ValueError",
     "evalue": "invalid literal for int() with base 10: 'j'",
     "output_type": "error",
     "traceback": [
      "\u001b[0;31m---------------------------------------------------------------------------\u001b[0m",
      "\u001b[0;31mValueError\u001b[0m                                Traceback (most recent call last)",
      "\u001b[0;32m<ipython-input-3-6ee53d339e7e>\u001b[0m in \u001b[0;36m<module>\u001b[0;34m()\u001b[0m\n\u001b[0;32m----> 1\u001b[0;31m \u001b[0maskint\u001b[0m\u001b[0;34m(\u001b[0m\u001b[0;34m)\u001b[0m\u001b[0;34m\u001b[0m\u001b[0m\n\u001b[0m",
      "\u001b[0;32m<ipython-input-2-bc38bd44bbce>\u001b[0m in \u001b[0;36maskint\u001b[0;34m()\u001b[0m\n\u001b[1;32m      4\u001b[0m     \u001b[0;32mexcept\u001b[0m\u001b[0;34m:\u001b[0m\u001b[0;34m\u001b[0m\u001b[0m\n\u001b[1;32m      5\u001b[0m         \u001b[0;32mprint\u001b[0m \u001b[0;34m'Looks like you didn\\'t enter an integer'\u001b[0m\u001b[0;34m\u001b[0m\u001b[0m\n\u001b[0;32m----> 6\u001b[0;31m         \u001b[0mval\u001b[0m \u001b[0;34m=\u001b[0m \u001b[0mint\u001b[0m\u001b[0;34m(\u001b[0m\u001b[0mraw_input\u001b[0m\u001b[0;34m(\u001b[0m\u001b[0;34m'Try again- please enter an integer: '\u001b[0m\u001b[0;34m)\u001b[0m\u001b[0;34m)\u001b[0m\u001b[0;34m\u001b[0m\u001b[0m\n\u001b[0m\u001b[1;32m      7\u001b[0m     \u001b[0;32mfinally\u001b[0m\u001b[0;34m:\u001b[0m\u001b[0;34m\u001b[0m\u001b[0m\n\u001b[1;32m      8\u001b[0m         \u001b[0;32mprint\u001b[0m \u001b[0;34m'Finally block executed'\u001b[0m\u001b[0;34m\u001b[0m\u001b[0m\n",
      "\u001b[0;31mValueError\u001b[0m: invalid literal for int() with base 10: 'j'"
     ]
    }
   ],
   "source": [
    "askint()"
   ]
  },
  {
   "cell_type": "markdown",
   "metadata": {},
   "source": [
    "However, the above only works once. If you enter an incorrect value the second time, Python will throw an error. To keep checking, using a while loop!"
   ]
  },
  {
   "cell_type": "code",
   "execution_count": 4,
   "metadata": {
    "collapsed": true
   },
   "outputs": [],
   "source": [
    "def askint():\n",
    "    while True:\n",
    "        try:\n",
    "            val = int(raw_input('Please enter an integer: '))\n",
    "        except:\n",
    "            print 'Looks like you didn\\'t enter an integer'\n",
    "            continue\n",
    "        else:\n",
    "            print 'Correct, that is an integer!'\n",
    "            break\n",
    "        finally:\n",
    "            print 'Finally block executed'\n",
    "    print val"
   ]
  },
  {
   "cell_type": "code",
   "execution_count": 6,
   "metadata": {},
   "outputs": [
    {
     "name": "stdout",
     "output_type": "stream",
     "text": [
      "Please enter an integer: f\n",
      "Looks like you didn't enter an integer\n",
      "Finally block executed\n",
      "Please enter an integer: f\n",
      "Looks like you didn't enter an integer\n",
      "Finally block executed\n",
      "Please enter an integer: f\n",
      "Looks like you didn't enter an integer\n",
      "Finally block executed\n",
      "Please enter an integer: 9\n",
      "Correct, that is an integer!\n",
      "Finally block executed\n",
      "9\n"
     ]
    }
   ],
   "source": [
    "askint()"
   ]
  },
  {
   "cell_type": "code",
   "execution_count": null,
   "metadata": {
    "collapsed": true
   },
   "outputs": [],
   "source": []
  }
 ],
 "metadata": {
  "kernelspec": {
   "display_name": "Python 2",
   "language": "python",
   "name": "python2"
  },
  "language_info": {
   "codemirror_mode": {
    "name": "ipython",
    "version": 2
   },
   "file_extension": ".py",
   "mimetype": "text/x-python",
   "name": "python",
   "nbconvert_exporter": "python",
   "pygments_lexer": "ipython2",
   "version": "2.7.14"
  }
 },
 "nbformat": 4,
 "nbformat_minor": 2
}
