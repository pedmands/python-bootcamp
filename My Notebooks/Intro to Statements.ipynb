{
 "cells": [
  {
   "cell_type": "markdown",
   "metadata": {},
   "source": [
    "# Intro to Python Statements "
   ]
  },
  {
   "cell_type": "code",
   "execution_count": 11,
   "metadata": {},
   "outputs": [
    {
     "name": "stdout",
     "output_type": "stream",
     "text": [
      "a=2 b=4\n"
     ]
    }
   ],
   "source": [
    "a = 3\n",
    "b = 1\n",
    "\n",
    "if a>b:\n",
    "    a = 2\n",
    "    b = 4\n",
    "    \n",
    "print \"a={} b={}\".format(a,b)"
   ]
  },
  {
   "cell_type": "markdown",
   "metadata": {},
   "source": [
    "## if,elif,else Statements "
   ]
  },
  {
   "cell_type": "code",
   "execution_count": 17,
   "metadata": {},
   "outputs": [
    {
     "name": "stdout",
     "output_type": "stream",
     "text": [
      "nuttin' happening, sugar!\n"
     ]
    }
   ],
   "source": [
    "a = 1\n",
    "b = 1\n",
    "if a < b:\n",
    "    print 'true'\n",
    "elif b < a:\n",
    "    print 'false'\n",
    "else:\n",
    "    print 'nuttin\\' happening, sugar!'"
   ]
  },
  {
   "cell_type": "code",
   "execution_count": 20,
   "metadata": {},
   "outputs": [
    {
     "name": "stdout",
     "output_type": "stream",
     "text": [
      "What's the mattah whitcha cah?\n"
     ]
    }
   ],
   "source": [
    "loc = 'Auto Shop'\n",
    "\n",
    "if loc == 'Bank':\n",
    "    print 'Ya robbed me, sonny!'\n",
    "elif loc == 'Auto Shop':\n",
    "    print 'What\\'s the mattah whitcha cah?'\n",
    "else:\n",
    "    print 'You stayed home.'"
   ]
  },
  {
   "cell_type": "markdown",
   "metadata": {},
   "source": [
    "## For Loops "
   ]
  },
  {
   "cell_type": "code",
   "execution_count": 21,
   "metadata": {},
   "outputs": [
    {
     "data": {
      "text/plain": [
       "[1, 2, 3, 4, 5]"
      ]
     },
     "execution_count": 21,
     "metadata": {},
     "output_type": "execute_result"
    }
   ],
   "source": [
    "l = [1,2,3,4,5]\n",
    "l"
   ]
  },
  {
   "cell_type": "code",
   "execution_count": 28,
   "metadata": {},
   "outputs": [
    {
     "name": "stdout",
     "output_type": "stream",
     "text": [
      "Line #1\n",
      "Line #2\n",
      "Line #3\n",
      "Line #4\n",
      "Line #5\n"
     ]
    }
   ],
   "source": [
    "for num in l:\n",
    "    print 'Line #{}'.format(num)"
   ]
  },
  {
   "cell_type": "code",
   "execution_count": 30,
   "metadata": {},
   "outputs": [
    {
     "data": {
      "text/plain": [
       "1"
      ]
     },
     "execution_count": 30,
     "metadata": {},
     "output_type": "execute_result"
    }
   ],
   "source": [
    "# MODULO\n",
    "# Modulo returns the remainder\n",
    "10 % 3"
   ]
  },
  {
   "cell_type": "code",
   "execution_count": 31,
   "metadata": {},
   "outputs": [
    {
     "data": {
      "text/plain": [
       "4"
      ]
     },
     "execution_count": 31,
     "metadata": {},
     "output_type": "execute_result"
    }
   ],
   "source": [
    "18 % 7 "
   ]
  },
  {
   "cell_type": "code",
   "execution_count": 52,
   "metadata": {},
   "outputs": [
    {
     "name": "stdout",
     "output_type": "stream",
     "text": [
      "Odd Row....   6.0\n",
      "Even Row...   6.0\n",
      "Odd Row....   6.0\n",
      "Even Row...   6.0\n",
      "Odd Row....   6.0\n",
      "Even Row...   6.0\n",
      "-----------------\n",
      "             21.0\n"
     ]
    }
   ],
   "source": [
    "l = [1,2,3,4,5,6]\n",
    "list_sum = 0\n",
    "for row in l:\n",
    "    if row % 2 == 0:\n",
    "        print 'Even Row... %5.1f'%(num)\n",
    "    elif row % 2 == 1:\n",
    "        print 'Odd Row.... %5.1f'%(num)\n",
    "print '-----------------'\n",
    "for num in l:\n",
    "    list_sum = list_sum + num\n",
    "    \n",
    "print '%17.1f'%(list_sum)"
   ]
  },
  {
   "cell_type": "code",
   "execution_count": 47,
   "metadata": {},
   "outputs": [
    {
     "name": "stdout",
     "output_type": "stream",
     "text": [
      "21\n"
     ]
    }
   ],
   "source": [
    "list_sum = 0\n",
    "\n",
    "for num in l:\n",
    "    list_sum = list_sum + num\n",
    "    \n",
    "print list_sum"
   ]
  },
  {
   "cell_type": "code",
   "execution_count": 51,
   "metadata": {},
   "outputs": [
    {
     "name": "stdout",
     "output_type": "stream",
     "text": [
      "P\n",
      "r\n",
      "e\n",
      "s\n",
      "t\n",
      "o\n",
      "n\n"
     ]
    }
   ],
   "source": [
    "s = 'Preston'\n",
    "for letter in s:\n",
    "    print letter"
   ]
  },
  {
   "cell_type": "markdown",
   "metadata": {},
   "source": [
    "### Tuples "
   ]
  },
  {
   "cell_type": "code",
   "execution_count": 54,
   "metadata": {},
   "outputs": [
    {
     "name": "stdout",
     "output_type": "stream",
     "text": [
      "Tuples are just like lists\n",
      "Tuples are just like lists\n",
      "Tuples are just like lists\n",
      "Tuples are just like lists\n",
      "Tuples are just like lists\n"
     ]
    }
   ],
   "source": [
    "t = (1,2,3,4,5)\n",
    "for num in t:\n",
    "    print 'Tuples are just like lists'"
   ]
  },
  {
   "cell_type": "code",
   "execution_count": 59,
   "metadata": {},
   "outputs": [
    {
     "name": "stdout",
     "output_type": "stream",
     "text": [
      "(2, 4)\n",
      "(6, 8)\n",
      "(10, 12)\n"
     ]
    }
   ],
   "source": [
    "l = [(2,4),(6,8),(10,12)]\n",
    "for tup in l:\n",
    "    print tup\n"
   ]
  },
  {
   "cell_type": "code",
   "execution_count": 65,
   "metadata": {},
   "outputs": [
    {
     "name": "stdout",
     "output_type": "stream",
     "text": [
      "2.00       4.00\n",
      "6.00       8.00\n",
      "10.00      12.00\n"
     ]
    }
   ],
   "source": [
    "for (t1,t2) in l:\n",
    "    print '%1.2f %10.2f'%(t1,t2)"
   ]
  },
  {
   "cell_type": "markdown",
   "metadata": {},
   "source": [
    "### Dictionaries \n",
    "`iteritems()`"
   ]
  },
  {
   "cell_type": "code",
   "execution_count": 67,
   "metadata": {},
   "outputs": [
    {
     "name": "stdout",
     "output_type": "stream",
     "text": [
      "k3: 3\n",
      "k2: 2\n",
      "k1: 1\n"
     ]
    }
   ],
   "source": [
    "d = {'k1': 1, 'k2': 2, 'k3': 3}\n",
    "for k,v in d.iteritems():\n",
    "    print '{}: {}'.format(k,v)"
   ]
  },
  {
   "cell_type": "markdown",
   "metadata": {},
   "source": [
    "## While Loops "
   ]
  },
  {
   "cell_type": "code",
   "execution_count": 75,
   "metadata": {},
   "outputs": [
    {
     "name": "stdout",
     "output_type": "stream",
     "text": [
      "x is currently        0.0\n",
      "x is currently        1.0\n",
      "x is currently        2.0\n",
      "x is currently        3.0\n",
      "x is currently        4.0\n",
      "x is currently        5.0\n"
     ]
    }
   ],
   "source": [
    "x = 0\n",
    "\n",
    "while x <= 5:\n",
    "    print 'x is currently %10.1f'%(x)\n",
    "    x += 1\n",
    "    "
   ]
  },
  {
   "cell_type": "code",
   "execution_count": 77,
   "metadata": {},
   "outputs": [
    {
     "name": "stdout",
     "output_type": "stream",
     "text": [
      "x is currently 0\n",
      "x is currently 1\n",
      "x is currently 2\n",
      "x is currently 3\n",
      "x is currently 4\n",
      "x is currently 5\n",
      "All Done!\n"
     ]
    }
   ],
   "source": [
    "x = 0\n",
    "\n",
    "while x <= 5:\n",
    "    print 'x is currently', x\n",
    "    x += 1\n",
    "else:\n",
    "    print 'All Done!'"
   ]
  },
  {
   "cell_type": "markdown",
   "metadata": {},
   "source": [
    "### Break, Continue & Pass \n",
    "\n",
    "command | behavior\n",
    "--- | ---\n",
    "__`break:`__ | Breaks out of the current closest enclosing loop.\n",
    "__`continue:`__ | Goes to the top of the closest enclosing loop.\n",
    "__`pass:`__ | Does nothing at all.\n",
    "\n"
   ]
  },
  {
   "cell_type": "code",
   "execution_count": 79,
   "metadata": {},
   "outputs": [
    {
     "name": "stdout",
     "output_type": "stream",
     "text": [
      "x is currently 0\n",
      "x is still lest than 5, adding 1 to x\n",
      "continuing...\n",
      "x is currently 1\n",
      "x is still lest than 5, adding 1 to x\n",
      "continuing...\n",
      "x is currently 2\n",
      "x is still lest than 5, adding 1 to x\n",
      "Hey, x equals 3!\n",
      "x is currently 3\n",
      "x is still lest than 5, adding 1 to x\n",
      "continuing...\n",
      "x is currently 4\n",
      "x is still lest than 5, adding 1 to x\n",
      "continuing...\n"
     ]
    }
   ],
   "source": [
    "x = 0\n",
    "\n",
    "while x < 5:\n",
    "    print 'x is currently', x\n",
    "    print 'x is still lest than 5, adding 1 to x'\n",
    "    x += 1\n",
    "    \n",
    "    if x==3:\n",
    "        print 'Hey, x equals 3!'\n",
    "    else:\n",
    "        print 'continuing...'\n",
    "        continue # Goes back to the top of the while loop\n",
    "\n",
    "        "
   ]
  },
  {
   "cell_type": "code",
   "execution_count": 81,
   "metadata": {},
   "outputs": [
    {
     "name": "stdout",
     "output_type": "stream",
     "text": [
      "x is currently 0\n",
      "x is still lest than 5, adding 1 to x\n",
      "continuing...\n",
      "x is currently 1\n",
      "x is still lest than 5, adding 1 to x\n",
      "continuing...\n",
      "x is currently 2\n",
      "x is still lest than 5, adding 1 to x\n",
      "Hey, x equals 3!\n"
     ]
    }
   ],
   "source": [
    "x = 0\n",
    "\n",
    "while x < 5:\n",
    "    print 'x is currently', x\n",
    "    print 'x is still lest than 5, adding 1 to x'\n",
    "    x += 1\n",
    "    \n",
    "    if x==3:\n",
    "        print 'Hey, x equals 3!'\n",
    "        break # Once x == 3, the while loop stops\n",
    "    else:\n",
    "        print 'continuing...'\n",
    "        continue # This is overridden by the above"
   ]
  },
  {
   "cell_type": "code",
   "execution_count": null,
   "metadata": {
    "collapsed": true
   },
   "outputs": [],
   "source": []
  }
 ],
 "metadata": {
  "kernelspec": {
   "display_name": "Python 2",
   "language": "python",
   "name": "python2"
  },
  "language_info": {
   "codemirror_mode": {
    "name": "ipython",
    "version": 2
   },
   "file_extension": ".py",
   "mimetype": "text/x-python",
   "name": "python",
   "nbconvert_exporter": "python",
   "pygments_lexer": "ipython2",
   "version": "2.7.14"
  }
 },
 "nbformat": 4,
 "nbformat_minor": 2
}
