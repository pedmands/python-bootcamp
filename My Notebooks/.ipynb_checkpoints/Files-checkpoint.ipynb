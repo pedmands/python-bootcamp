{
 "cells": [
  {
   "cell_type": "markdown",
   "metadata": {},
   "source": [
    "# Files"
   ]
  },
  {
   "cell_type": "code",
   "execution_count": 11,
   "metadata": {},
   "outputs": [
    {
     "data": {
      "text/plain": [
       "u'/Users/preston/Documents/Python/bootcamp/My Notebooks'"
      ]
     },
     "execution_count": 11,
     "metadata": {},
     "output_type": "execute_result"
    }
   ],
   "source": [
    "pwd"
   ]
  },
  {
   "cell_type": "code",
   "execution_count": 12,
   "metadata": {},
   "outputs": [
    {
     "name": "stdout",
     "output_type": "stream",
     "text": [
      "total 72\r\n",
      "drwxr-xr-x   8 preston  staff    256 Nov 28 23:15 \u001b[34m.\u001b[m\u001b[m/\r\n",
      "drwxr-xr-x  84 preston  staff   2688 Nov 28 21:54 \u001b[34m..\u001b[m\u001b[m/\r\n",
      "drwxr-xr-x   6 preston  staff    192 Nov 28 23:13 \u001b[34m.ipynb_checkpoints\u001b[m\u001b[m/\r\n",
      "-rw-r--r--   1 preston  staff   7797 Nov 28 22:59 Dictionaries.ipynb\r\n",
      "-rw-r--r--   1 preston  staff   2423 Nov 28 23:15 Files.ipynb\r\n",
      "-rw-r--r--   1 preston  staff  10885 Nov 28 22:14 Lists.ipynb\r\n",
      "-rw-r--r--   1 preston  staff   6042 Nov 28 23:11 Untitled.ipynb\r\n",
      "-rw-r--r--@  1 preston  staff     23 Nov 28 23:16 test.txt\r\n"
     ]
    }
   ],
   "source": [
    "ls -la"
   ]
  },
  {
   "cell_type": "code",
   "execution_count": 13,
   "metadata": {
    "collapsed": true
   },
   "outputs": [],
   "source": [
    "f = open('test.txt')"
   ]
  },
  {
   "cell_type": "code",
   "execution_count": 14,
   "metadata": {},
   "outputs": [
    {
     "data": {
      "text/plain": [
       "'this is a line of text.'"
      ]
     },
     "execution_count": 14,
     "metadata": {},
     "output_type": "execute_result"
    }
   ],
   "source": [
    "f.read()"
   ]
  },
  {
   "cell_type": "code",
   "execution_count": 15,
   "metadata": {},
   "outputs": [
    {
     "data": {
      "text/plain": [
       "'this is a line of text.'"
      ]
     },
     "execution_count": 15,
     "metadata": {},
     "output_type": "execute_result"
    }
   ],
   "source": [
    "# Now we have to seek back to the beginning of the file to read again:\n",
    "f.seek(0)\n",
    "f.read()"
   ]
  },
  {
   "cell_type": "code",
   "execution_count": 16,
   "metadata": {
    "collapsed": true
   },
   "outputs": [],
   "source": [
    "f.seek(0)"
   ]
  },
  {
   "cell_type": "code",
   "execution_count": 17,
   "metadata": {},
   "outputs": [
    {
     "data": {
      "text/plain": [
       "['this is a line of text.']"
      ]
     },
     "execution_count": 17,
     "metadata": {},
     "output_type": "execute_result"
    }
   ],
   "source": [
    "f.readlines()"
   ]
  },
  {
   "cell_type": "code",
   "execution_count": 18,
   "metadata": {},
   "outputs": [
    {
     "name": "stdout",
     "output_type": "stream",
     "text": [
      "Writing new.txt\n"
     ]
    }
   ],
   "source": [
    "%%writefile new.txt\n",
    "First line\n",
    "Second line\n",
    "\n",
    "\n",
    "The end!"
   ]
  },
  {
   "cell_type": "code",
   "execution_count": 19,
   "metadata": {},
   "outputs": [
    {
     "name": "stdout",
     "output_type": "stream",
     "text": [
      "total 80\r\n",
      "drwxr-xr-x   9 preston  staff    288 Nov 28 23:17 \u001b[34m.\u001b[m\u001b[m/\r\n",
      "drwxr-xr-x  84 preston  staff   2688 Nov 28 21:54 \u001b[34m..\u001b[m\u001b[m/\r\n",
      "drwxr-xr-x   6 preston  staff    192 Nov 28 23:13 \u001b[34m.ipynb_checkpoints\u001b[m\u001b[m/\r\n",
      "-rw-r--r--   1 preston  staff   7797 Nov 28 22:59 Dictionaries.ipynb\r\n",
      "-rw-r--r--   1 preston  staff   3425 Nov 28 23:17 Files.ipynb\r\n",
      "-rw-r--r--   1 preston  staff  10885 Nov 28 22:14 Lists.ipynb\r\n",
      "-rw-r--r--   1 preston  staff   6042 Nov 28 23:11 Untitled.ipynb\r\n",
      "-rw-r--r--   1 preston  staff     33 Nov 28 23:17 new.txt\r\n",
      "-rw-r--r--@  1 preston  staff     23 Nov 28 23:16 test.txt\r\n"
     ]
    }
   ],
   "source": [
    "ls -la"
   ]
  },
  {
   "cell_type": "code",
   "execution_count": 23,
   "metadata": {},
   "outputs": [
    {
     "name": "stdout",
     "output_type": "stream",
     "text": [
      "First line\n",
      "\n",
      "Second line\n",
      "\n",
      "\n",
      "\n",
      "\n",
      "\n",
      "The end!\n"
     ]
    }
   ],
   "source": [
    "for line in open('new.txt'):\n",
    "    print line"
   ]
  },
  {
   "cell_type": "code",
   "execution_count": 27,
   "metadata": {
    "collapsed": true
   },
   "outputs": [],
   "source": [
    "f = open('new.txt')"
   ]
  },
  {
   "cell_type": "code",
   "execution_count": 28,
   "metadata": {},
   "outputs": [
    {
     "data": {
      "text/plain": [
       "['First line\\n', 'Second line\\n', '\\n', 'The end!']"
      ]
     },
     "execution_count": 28,
     "metadata": {},
     "output_type": "execute_result"
    }
   ],
   "source": [
    "f.readlines()"
   ]
  },
  {
   "cell_type": "code",
   "execution_count": null,
   "metadata": {
    "collapsed": true
   },
   "outputs": [],
   "source": []
  }
 ],
 "metadata": {
  "kernelspec": {
   "display_name": "Python 2",
   "language": "python",
   "name": "python2"
  },
  "language_info": {
   "codemirror_mode": {
    "name": "ipython",
    "version": 2
   },
   "file_extension": ".py",
   "mimetype": "text/x-python",
   "name": "python",
   "nbconvert_exporter": "python",
   "pygments_lexer": "ipython2",
   "version": "2.7.14"
  }
 },
 "nbformat": 4,
 "nbformat_minor": 2
}
