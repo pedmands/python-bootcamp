{
 "cells": [
  {
   "cell_type": "code",
   "execution_count": 19,
   "metadata": {},
   "outputs": [
    {
     "name": "stdout",
     "output_type": "stream",
     "text": [
      "Enter Move for Player X1\n",
      "_X_|___|___\n",
      "___|___|___\n",
      "   |   |   \n"
     ]
    }
   ],
   "source": [
    "from IPython.display import clear_output\n",
    "import random\n",
    "\n",
    "board = ['_','_','_','_','_','_',' ',' ',' ']\n",
    "game_won = False\n",
    "turn = 0\n",
    "\n",
    "def random_first_player():\n",
    "    global first_player\n",
    "    global second_player\n",
    "    global marker\n",
    "    \n",
    "    if random.choice([('X'), 'O']) == 'X':\n",
    "        first_player=\"X\"\n",
    "        second_player=\"O\"\n",
    "    else:\n",
    "        first_player=\"O\"\n",
    "        second_player=\"X\"\n",
    "    marker = first_player\n",
    "random_first_player()\n",
    "\n",
    "def display_board(board):\n",
    "    print '_{}_|_{}_|_{}_'.format(board[0],board[1],board[2])\n",
    "    print '_{}_|_{}_|_{}_'.format(board[3],board[4],board[5])\n",
    "    print ' {} | {} | {} '.format(board[6],board[7],board[8])\n",
    "\n",
    "def place_marker(board,marker,position):\n",
    "    board[position] = marker\n",
    "\n",
    "def space_check(position,marker):\n",
    "    global turn\n",
    "    if board[position] in ('X','O'):\n",
    "        print 'Space Occupied!'\n",
    "    else:\n",
    "        place_marker(board,marker,position)\n",
    "        turn +=1\n",
    "def player_choice():\n",
    "    global marker\n",
    "    global turn\n",
    "    if turn % 2 == 0:\n",
    "        marker = first_player   \n",
    "    else:\n",
    "        marker = second_player\n",
    "        \n",
    "def player_input():\n",
    "    position = input(\"Enter Move for Player {}\".format(marker)) -1 # Translate space num to human terms.\n",
    "    space_check(position,marker)\n",
    "    display_board(board)\n",
    "    player_choice()\n",
    "\n",
    "player_input()"
   ]
  },
  {
   "cell_type": "code",
   "execution_count": 22,
   "metadata": {},
   "outputs": [
    {
     "name": "stdout",
     "output_type": "stream",
     "text": [
      "Enter Move for Player X1\n",
      "Space Occupied!\n",
      "_X_|_O_|___\n",
      "___|___|___\n",
      "   |   |   \n"
     ]
    }
   ],
   "source": [
    "player_input()"
   ]
  },
  {
   "cell_type": "code",
   "execution_count": null,
   "metadata": {
    "collapsed": true
   },
   "outputs": [],
   "source": []
  }
 ],
 "metadata": {
  "kernelspec": {
   "display_name": "Python 2",
   "language": "python",
   "name": "python2"
  },
  "language_info": {
   "codemirror_mode": {
    "name": "ipython",
    "version": 2
   },
   "file_extension": ".py",
   "mimetype": "text/x-python",
   "name": "python",
   "nbconvert_exporter": "python",
   "pygments_lexer": "ipython2",
   "version": "2.7.14"
  }
 },
 "nbformat": 4,
 "nbformat_minor": 2
}
